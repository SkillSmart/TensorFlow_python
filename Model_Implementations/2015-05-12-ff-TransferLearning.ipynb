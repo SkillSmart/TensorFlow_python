{
 "cells": [
  {
   "cell_type": "markdown",
   "metadata": {},
   "source": [
    "# Retraining Inception V3\n",
    "[Example tutorial](https://tensorflow.org/tuturials/image_retraining)<br>\n",
    "\n",
    "**Author**: Frank Fichtenmueller<br>\n",
    "**Date**: 12/05/2017\n",
    "<hr>\n",
    "In this example we retraining an existing large scale deep network to specialize on Digit Recognition Task on the MNIST Dataset\n",
    "\n",
    "To achieve this we will go trough the following steps:\n",
    "- Optain Data for the classes to be recognized\n",
    "- We load the fully trained Inception network\n",
    "- We retrain the next to the last (Bottleneck) layer\n",
    "- We replace the last layet to output our classes"
   ]
  },
  {
   "cell_type": "code",
   "execution_count": 2,
   "metadata": {},
   "outputs": [
    {
     "name": "stderr",
     "output_type": "stream",
     "text": [
      "'git' is not recognized as an internal or external command,\n",
      "operable program or batch file.\n"
     ]
    }
   ],
   "source": []
  },
  {
   "cell_type": "code",
   "execution_count": null,
   "metadata": {
    "collapsed": true
   },
   "outputs": [],
   "source": []
  },
  {
   "cell_type": "code",
   "execution_count": 1,
   "metadata": {
    "collapsed": true
   },
   "outputs": [],
   "source": [
    "import tensorflow as tf"
   ]
  },
  {
   "cell_type": "code",
   "execution_count": null,
   "metadata": {
    "collapsed": true
   },
   "outputs": [],
   "source": []
  }
 ],
 "metadata": {
  "kernelspec": {
   "display_name": "Python 3",
   "language": "python",
   "name": "python3"
  },
  "language_info": {
   "codemirror_mode": {
    "name": "ipython",
    "version": 3
   },
   "file_extension": ".py",
   "mimetype": "text/x-python",
   "name": "python",
   "nbconvert_exporter": "python",
   "pygments_lexer": "ipython3",
   "version": "3.5.3"
  }
 },
 "nbformat": 4,
 "nbformat_minor": 2
}

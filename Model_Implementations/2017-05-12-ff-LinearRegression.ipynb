{
 "cells": [
  {
   "cell_type": "markdown",
   "metadata": {},
   "source": [
    "# Simple Linear Regression Implementation\n",
    "\n",
    "Goal: Getting to know the tensorflow library by implementing a couple of case studies with popular model families\n",
    "\n",
    "Learning: [to be filled]\n",
    "\n",
    "Started: 2017-05-12\n",
    "Ended: [work in progress]"
   ]
  },
  {
   "cell_type": "code",
   "execution_count": 1,
   "metadata": {},
   "outputs": [],
   "source": [
    "# Starting basic imports\n",
    "import tensorflow as tf\n",
    "import numpy as np\n",
    "import math\n",
    "import matplotlib.pyplot as plt\n",
    "import matplotlib.animation as animation"
   ]
  },
  {
   "cell_type": "code",
   "execution_count": 2,
   "metadata": {},
   "outputs": [
    {
     "data": {
      "image/png": "[encoded data removed]",
      "text/plain": [
       "<matplotlib.figure.Figure at 0x1f7d555d320>"
      ]
     },
     "metadata": {},
     "output_type": "display_data"
    }
   ],
   "source": [
    "# Defining the session Instance\n",
    "sess = tf.Session()\n",
    "\n",
    "# Creating dummy dataset\n",
    "num_house = 160\n",
    "np.random.seed(42)\n",
    "house_size = np.random.randint(low=1000, high=3500, size=num_house )\n",
    "\n",
    "np.random.seed(42)\n",
    "house_price = house_size * 100.0 + np.random.randint(low=20000, high=70000, size=num_house )\n",
    "\n",
    "# Plot generated house and size\n",
    "plt.plot(house_size, house_price, 'bx')\n",
    "plt.ylabel('Price')\n",
    "plt.xlabel('Size')\n",
    "plt.show()"
   ]
  },
  {
   "cell_type": "markdown",
   "metadata": {},
   "source": [
    "Define a helper function to z-scale the data"
   ]
  },
  {
   "cell_type": "code",
   "execution_count": 6,
   "metadata": {
    "collapsed": true
   },
   "outputs": [],
   "source": [
    "# normalize the data values to prevent over and underflow\n",
    "def normalize(array):\n",
    "    return (array - array.mean() )/ array.std()"
   ]
  },
  {
   "cell_type": "code",
   "execution_count": 3,
   "metadata": {
    "collapsed": true
   },
   "outputs": [],
   "source": [
    "# define the number of training samples for train test split\n",
    "num_train_samples = math.floor(num_house * 0.7)\n",
    "\n",
    "# define training data\n",
    "train_house_size = np.asarray(house_size[:num_train_samples])\n",
    "train_price = np.asarray(house_price[:num_train_samples])\n",
    "\n",
    "train_house_size_norm = normalize(train_house_size)\n",
    "train_price_norm = normalize(train_price)\n",
    "\n",
    "# define test data\n",
    "test_house_size = np.asarray(house_size[num_train_samples:])\n",
    "test_price = np.asarray(house_price[num_train_samples:])\n",
    "\n",
    "test_house_size_norm = normalize(test_house_size)\n",
    "test_price_norm = normalize(test_price)"
   ]
  },
  {
   "cell_type": "markdown",
   "metadata": {},
   "source": [
    "Applying the normalization we constrain the data to a normal distribution with mean 0"
   ]
  },
  {
   "cell_type": "code",
   "execution_count": 12,
   "metadata": {},
   "outputs": [
    {
     "name": "stdout",
     "output_type": "stream",
     "text": [
      "mean = 2301.94642857\n",
      "mean = 272221.848214\n",
      "mean = 1.80411241502e-16\n",
      "mean = -3.23154201811e-16\n",
      "std = 712.062658249\n",
      "std = 74624.907908\n",
      "std = 1.0\n",
      "std = 1.0\n"
     ]
    }
   ],
   "source": [
    "for func in (np.mean, np.std):\n",
    "    for data in (train_house_size, train_price, \n",
    "                 train_house_size_norm, train_price_norm):\n",
    "        print(func.__name__, \"=\", func(data))"
   ]
  },
  {
   "cell_type": "markdown",
   "metadata": {},
   "source": [
    "Next we define the Tensor Containers to be used during Model Training"
   ]
  },
  {
   "cell_type": "code",
   "execution_count": 13,
   "metadata": {
    "collapsed": true
   },
   "outputs": [],
   "source": [
    "# Place values in Tensor Containers\n",
    "# those will get updated as we call on gradient descent\n",
    "tf_house_size = tf.placeholder('float', name='house_size')\n",
    "tf_price = tf.placeholder('float', name='price')\n",
    "\n",
    "# Define the variable sholding the size and price factor we set during training\n",
    "# Initializing them to random variables based on the normal distribution\n",
    "tf_size_factor = tf.Variable(np.random.randn(), name='size_factor')\n",
    "tf_price_offset = tf.Variable(np.random.randn(), name='price_offset')"
   ]
  },
  {
   "cell_type": "markdown",
   "metadata": {},
   "source": [
    "Now the Operations are chained to create the Computational Graph"
   ]
  },
  {
   "cell_type": "code",
   "execution_count": 14,
   "metadata": {
    "collapsed": true
   },
   "outputs": [],
   "source": [
    "# 2. Define thfe operation \n",
    "tf_price_pred = tf.add(tf.multiply(tf_size_factor, tf_house_size), tf_price_offset)\n",
    "\n",
    "# Calculate the loss function\n",
    "tf_cost = tf.reduce_sum(tf.pow(tf_price_pred - tf_price, 2))/(2*num_train_samples)\n",
    "\n",
    "# Optimize learning rate\n",
    "learning_rate = 0.1\n",
    "\n",
    "# 4. define a Gradient descent optimizer that will minimize the loss of the 'cost' function\n",
    "optimizer = tf.train.GradientDescentOptimizer(learning_rate).minimize(tf_cost)\n",
    "\n",
    "# Initializingg the variables\n",
    "init = tf.global_variables_initializer()"
   ]
  },
  {
   "cell_type": "markdown",
   "metadata": {},
   "source": [
    "After Variables have been initialized the Session can be called"
   ]
  },
  {
   "cell_type": "code",
   "execution_count": 15,
   "metadata": {},
   "outputs": [
    {
     "name": "stdout",
     "output_type": "stream",
     "text": [
      "iteration #: 0002 cost= 1.326728225 size_factor -0.161558 price_offset= -1.14493\n",
      "iteration #: 0004 cost= 0.895426214 size_factor 0.0456974 price_offset= -0.937167\n",
      "iteration #: 0006 cost= 0.606481671 size_factor 0.21534 price_offset= -0.767093\n",
      "iteration #: 0008 cost= 0.412913084 size_factor 0.354196 price_offset= -0.627871\n",
      "iteration #: 0010 cost= 0.283243448 size_factor 0.467853 price_offset= -0.513905\n",
      "iteration #: 0012 cost= 0.196383253 size_factor 0.560883 price_offset= -0.420614\n",
      "iteration #: 0014 cost= 0.138202921 size_factor 0.63703 price_offset= -0.344246\n",
      "iteration #: 0016 cost= 0.099235289 size_factor 0.699358 price_offset= -0.281733\n",
      "iteration #: 0018 cost= 0.073138170 size_factor 0.750375 price_offset= -0.230559\n",
      "iteration #: 0020 cost= 0.055662543 size_factor 0.792133 price_offset= -0.188669\n",
      "iteration #: 0022 cost= 0.043961693 size_factor 0.826313 price_offset= -0.154378\n",
      "iteration #: 0024 cost= 0.036128599 size_factor 0.85429 price_offset= -0.126308\n",
      "iteration #: 0026 cost= 0.030885806 size_factor 0.87719 price_offset= -0.10333\n",
      "iteration #: 0028 cost= 0.027377620 size_factor 0.895934 price_offset= -0.0845205\n",
      "iteration #: 0030 cost= 0.025030751 size_factor 0.911277 price_offset= -0.069123\n",
      "iteration #: 0032 cost= 0.023461396 size_factor 0.923834 price_offset= -0.0565188\n",
      "iteration #: 0034 cost= 0.022412406 size_factor 0.934113 price_offset= -0.0462011\n",
      "iteration #: 0036 cost= 0.021711605 size_factor 0.942527 price_offset= -0.0377551\n",
      "iteration #: 0038 cost= 0.021243742 size_factor 0.949414 price_offset= -0.0308413\n",
      "iteration #: 0040 cost= 0.020931661 size_factor 0.955051 price_offset= -0.0251817\n",
      "iteration #: 0042 cost= 0.020723697 size_factor 0.959664 price_offset= -0.0205488\n",
      "iteration #: 0044 cost= 0.020585272 size_factor 0.963441 price_offset= -0.0167564\n",
      "iteration #: 0046 cost= 0.020493295 size_factor 0.966532 price_offset= -0.0136519\n",
      "iteration #: 0048 cost= 0.020432290 size_factor 0.969062 price_offset= -0.0111106\n",
      "iteration #: 0050 cost= 0.020391921 size_factor 0.971134 price_offset= -0.0090303\n",
      "Optimization Finished!\n",
      "Trained cost= 0.0203919 size_factor= 0.971134 price_offset= -0.0090303\n"
     ]
    },
    {
     "data": {
      "image/png": "[encoded data removed]",
      "text/plain": [
       "<matplotlib.figure.Figure at 0x1f7d5745588>"
      ]
     },
     "metadata": {},
     "output_type": "display_data"
    }
   ],
   "source": [
    "\n",
    "with tf.Session() as sess:\n",
    "    sess.run(init)\n",
    "\n",
    "    # Define how often to display training progress and number of training iterations\n",
    "    display_every = 2\n",
    "    num_training_iter = 50\n",
    "\n",
    "    # keep iterating over the training data\n",
    "    for iteration in range(num_training_iter):\n",
    "\n",
    "        #  Fit all training data\n",
    "        for (x,y) in zip(train_house_size_norm, train_price_norm):\n",
    "            sess.run(optimizer, feed_dict={tf_house_size:x, tf_price: y})\n",
    "\n",
    "        \n",
    "        # Display current status\n",
    "        if (iteration + 1) % display_every == 0:\n",
    "            c = sess.run(tf_cost, feed_dict={tf_house_size: train_house_size_norm, tf_price: train_price_norm})\n",
    "            print('iteration #:', '%04d' % (iteration + 1), 'cost=', '{:.9f}'.format(c), \\\n",
    "            \"size_factor\", sess.run(tf_size_factor), \"price_offset=\", sess.run(tf_price_offset))\n",
    "\n",
    "    print(\"Optimization Finished!\")\n",
    "    training_cost = sess.run(tf_cost, feed_dict={tf_house_size: train_house_size_norm, tf_price: train_price_norm})\n",
    "    print(\"Trained cost=\", training_cost, \"size_factor=\", sess.run(tf_size_factor), \"price_offset=\", sess.run(tf_price_offset))\n",
    "\n",
    "    train_house_size_std = train_house_size.std()\n",
    "    train_house_size_mean = train_house_size.mean()\n",
    "\n",
    "    train_price_std = train_price.std()\n",
    "    train_price_mean = train_price.mean()\n",
    "\n",
    "    # Plot the graph\n",
    "    plt.rcParams[\"figure.figsize\"] = (10,8)\n",
    "    plt.figure()\n",
    "    plt.ylabel(\"Price\")\n",
    "    plt.xlabel(\"Size (sq.ft)\")\n",
    "    plt.plot(train_house_size, train_price, 'go', label='Training Data')\n",
    "    plt.plot(test_house_size, test_price, 'mo', label='Testing Data')\n",
    "    plt.plot(train_house_size_norm * train_house_size_std + train_house_size_mean,\n",
    "            (sess.run(tf_size_factor) * train_house_size_norm  + sess.run(tf_price_offset)) * train_price_std  + train_price_mean,\n",
    "            label='Learned Regression')\n",
    "\n",
    "    plt.legend(loc='upper left')\n",
    "    plt.show()"
   ]
  },
  {
   "cell_type": "code",
   "execution_count": null,
   "metadata": {
    "collapsed": true
   },
   "outputs": [],
   "source": []
  }
 ],
 "metadata": {
  "kernelspec": {
   "display_name": "Python 3",
   "language": "python",
   "name": "python3"
  },
  "language_info": {
   "codemirror_mode": {
    "name": "ipython",
    "version": 3
   },
   "file_extension": ".py",
   "mimetype": "text/x-python",
   "name": "python",
   "nbconvert_exporter": "python",
   "pygments_lexer": "ipython3",
   "version": "3.5.3"
  }
 },
 "nbformat": 4,
 "nbformat_minor": 2
}
